{
 "cells": [
  {
   "cell_type": "code",
   "execution_count": 1,
   "id": "sweet-receipt",
   "metadata": {
    "_cell_guid": "b1076dfc-b9ad-4769-8c92-a6c4dae69d19",
    "_uuid": "8f2839f25d086af736a60e9eeb907d3b93b6e0e5",
    "execution": {
     "iopub.execute_input": "2021-05-18T17:40:37.474787Z",
     "iopub.status.busy": "2021-05-18T17:40:37.473646Z",
     "iopub.status.idle": "2021-05-18T17:40:37.485889Z",
     "shell.execute_reply": "2021-05-18T17:40:37.486448Z"
    },
    "papermill": {
     "duration": 0.03477,
     "end_time": "2021-05-18T17:40:37.486761",
     "exception": false,
     "start_time": "2021-05-18T17:40:37.451991",
     "status": "completed"
    },
    "tags": []
   },
   "outputs": [
    {
     "name": "stdout",
     "output_type": "stream",
     "text": [
      "/kaggle/input/titanic/train.csv\n",
      "/kaggle/input/titanic/test.csv\n",
      "/kaggle/input/titanic/gender_submission.csv\n"
     ]
    }
   ],
   "source": [
    "# This Python 3 environment comes with many helpful analytics libraries installed\n",
    "# It is defined by the kaggle/python Docker image: https://github.com/kaggle/docker-python\n",
    "# For example, here's several helpful packages to load\n",
    "\n",
    "import numpy as np # linear algebra\n",
    "import pandas as pd # data processing, CSV file I/O (e.g. pd.read_csv)\n",
    "\n",
    "# Input data files are available in the read-only \"../input/\" directory\n",
    "# For example, running this (by clicking run or pressing Shift+Enter) will list all files under the input directory\n",
    "\n",
    "import os\n",
    "for dirname, _, filenames in os.walk('/kaggle/input'):\n",
    "    for filename in filenames:\n",
    "        print(os.path.join(dirname, filename))\n",
    "\n",
    "# You can write up to 20GB to the current directory (/kaggle/working/) that gets preserved as output when you create a version using \"Save & Run All\" \n",
    "# You can also write temporary files to /kaggle/temp/, but they won't be saved outside of the current session"
   ]
  },
  {
   "cell_type": "code",
   "execution_count": 2,
   "id": "coordinated-dallas",
   "metadata": {
    "execution": {
     "iopub.execute_input": "2021-05-18T17:40:37.524310Z",
     "iopub.status.busy": "2021-05-18T17:40:37.523636Z",
     "iopub.status.idle": "2021-05-18T17:40:44.908092Z",
     "shell.execute_reply": "2021-05-18T17:40:44.908647Z"
    },
    "papermill": {
     "duration": 7.404421,
     "end_time": "2021-05-18T17:40:44.908824",
     "exception": false,
     "start_time": "2021-05-18T17:40:37.504403",
     "status": "completed"
    },
    "tags": []
   },
   "outputs": [],
   "source": [
    "from pandas import read_csv\n",
    "import pandas as pd\n",
    "import numpy as np\n",
    "from sklearn.model_selection import train_test_split\n",
    "from keras import optimizers\n",
    "from keras.models import Sequential\n",
    "from keras.layers import Dense\n",
    "from keras.layers import Dropout\n",
    "from keras.layers import Activation\n",
    "from pandas import get_dummies\n",
    "from sklearn.preprocessing import MinMaxScaler\n",
    "from sklearn.linear_model import LogisticRegression\n",
    "\n",
    "\n",
    "train_data = pd.read_csv(\"/kaggle/input/titanic/train.csv\")\n",
    "test_data = pd.read_csv(\"/kaggle/input/titanic/test.csv\")"
   ]
  },
  {
   "cell_type": "code",
   "execution_count": 3,
   "id": "provincial-notice",
   "metadata": {
    "execution": {
     "iopub.execute_input": "2021-05-18T17:40:44.948257Z",
     "iopub.status.busy": "2021-05-18T17:40:44.947265Z",
     "iopub.status.idle": "2021-05-18T17:40:44.970359Z",
     "shell.execute_reply": "2021-05-18T17:40:44.970821Z"
    },
    "papermill": {
     "duration": 0.043897,
     "end_time": "2021-05-18T17:40:44.971003",
     "exception": false,
     "start_time": "2021-05-18T17:40:44.927106",
     "status": "completed"
    },
    "tags": []
   },
   "outputs": [
    {
     "data": {
      "text/plain": [
       "PassengerId      0\n",
       "Survived         0\n",
       "Pclass           0\n",
       "Name             0\n",
       "Sex              0\n",
       "Age            177\n",
       "SibSp            0\n",
       "Parch            0\n",
       "Ticket           0\n",
       "Fare             0\n",
       "Cabin          687\n",
       "Embarked         2\n",
       "dtype: int64"
      ]
     },
     "execution_count": 3,
     "metadata": {},
     "output_type": "execute_result"
    }
   ],
   "source": [
    "# Checking Nulls\n",
    "train_data.isnull().sum()"
   ]
  },
  {
   "cell_type": "code",
   "execution_count": 4,
   "id": "informal-amazon",
   "metadata": {
    "execution": {
     "iopub.execute_input": "2021-05-18T17:40:45.010144Z",
     "iopub.status.busy": "2021-05-18T17:40:45.009179Z",
     "iopub.status.idle": "2021-05-18T17:40:45.018507Z",
     "shell.execute_reply": "2021-05-18T17:40:45.017935Z"
    },
    "papermill": {
     "duration": 0.029681,
     "end_time": "2021-05-18T17:40:45.018643",
     "exception": false,
     "start_time": "2021-05-18T17:40:44.988962",
     "status": "completed"
    },
    "tags": []
   },
   "outputs": [
    {
     "data": {
      "text/plain": [
       "PassengerId      0\n",
       "Pclass           0\n",
       "Name             0\n",
       "Sex              0\n",
       "Age             86\n",
       "SibSp            0\n",
       "Parch            0\n",
       "Ticket           0\n",
       "Fare             1\n",
       "Cabin          327\n",
       "Embarked         0\n",
       "dtype: int64"
      ]
     },
     "execution_count": 4,
     "metadata": {},
     "output_type": "execute_result"
    }
   ],
   "source": [
    "# Checking Nulls\n",
    "test_data.isnull().sum()"
   ]
  },
  {
   "cell_type": "code",
   "execution_count": 5,
   "id": "alleged-transcription",
   "metadata": {
    "execution": {
     "iopub.execute_input": "2021-05-18T17:40:45.067425Z",
     "iopub.status.busy": "2021-05-18T17:40:45.066440Z",
     "iopub.status.idle": "2021-05-18T17:40:45.069673Z",
     "shell.execute_reply": "2021-05-18T17:40:45.068960Z"
    },
    "papermill": {
     "duration": 0.033351,
     "end_time": "2021-05-18T17:40:45.069837",
     "exception": false,
     "start_time": "2021-05-18T17:40:45.036486",
     "status": "completed"
    },
    "tags": []
   },
   "outputs": [],
   "source": [
    "# Filling Null Values in Train data\n",
    "train_data['Embarked'] = train_data['Embarked'].replace(np.nan, 'Q')\n",
    "train_data[\"Age\"].fillna(train_data[\"Age\"].mean(),inplace=True)"
   ]
  },
  {
   "cell_type": "code",
   "execution_count": 6,
   "id": "mechanical-mystery",
   "metadata": {
    "execution": {
     "iopub.execute_input": "2021-05-18T17:40:45.113479Z",
     "iopub.status.busy": "2021-05-18T17:40:45.111889Z",
     "iopub.status.idle": "2021-05-18T17:40:45.116794Z",
     "shell.execute_reply": "2021-05-18T17:40:45.116160Z"
    },
    "papermill": {
     "duration": 0.029266,
     "end_time": "2021-05-18T17:40:45.116932",
     "exception": false,
     "start_time": "2021-05-18T17:40:45.087666",
     "status": "completed"
    },
    "tags": []
   },
   "outputs": [],
   "source": [
    "# Filling Null Values in Test data\n",
    "test_data['Fare'] = test_data['Fare'].replace(np.nan, 35)\n",
    "test_data[\"Age\"].fillna(test_data[\"Age\"].mean(),inplace=True)"
   ]
  },
  {
   "cell_type": "code",
   "execution_count": 7,
   "id": "suitable-protection",
   "metadata": {
    "execution": {
     "iopub.execute_input": "2021-05-18T17:40:45.156917Z",
     "iopub.status.busy": "2021-05-18T17:40:45.156302Z",
     "iopub.status.idle": "2021-05-18T17:40:45.165184Z",
     "shell.execute_reply": "2021-05-18T17:40:45.164524Z"
    },
    "papermill": {
     "duration": 0.030034,
     "end_time": "2021-05-18T17:40:45.165330",
     "exception": false,
     "start_time": "2021-05-18T17:40:45.135296",
     "status": "completed"
    },
    "tags": []
   },
   "outputs": [],
   "source": [
    "# Dropping unwanted colums\n",
    "df_train = train_data.drop([\"PassengerId\",\"Name\",\"Cabin\",\"Ticket\"],axis = 1)\n",
    "df_test = test_data.drop([\"PassengerId\",\"Name\",\"Cabin\",\"Ticket\"],axis = 1)"
   ]
  },
  {
   "cell_type": "code",
   "execution_count": 8,
   "id": "based-psychology",
   "metadata": {
    "execution": {
     "iopub.execute_input": "2021-05-18T17:40:45.206868Z",
     "iopub.status.busy": "2021-05-18T17:40:45.205966Z",
     "iopub.status.idle": "2021-05-18T17:40:45.226105Z",
     "shell.execute_reply": "2021-05-18T17:40:45.226660Z"
    },
    "papermill": {
     "duration": 0.043755,
     "end_time": "2021-05-18T17:40:45.226840",
     "exception": false,
     "start_time": "2021-05-18T17:40:45.183085",
     "status": "completed"
    },
    "tags": []
   },
   "outputs": [],
   "source": [
    "# Creating a new column with total Family count\n",
    "\n",
    "df_train[\"Family_Size\"]=df_train[\"SibSp\"]+df_train[\"Parch\"]\n",
    "df_test[\"Family_Size\"]=df_test[\"SibSp\"]+df_test[\"Parch\"]"
   ]
  },
  {
   "cell_type": "code",
   "execution_count": 9,
   "id": "north-judge",
   "metadata": {
    "execution": {
     "iopub.execute_input": "2021-05-18T17:40:45.266644Z",
     "iopub.status.busy": "2021-05-18T17:40:45.265550Z",
     "iopub.status.idle": "2021-05-18T17:40:45.275028Z",
     "shell.execute_reply": "2021-05-18T17:40:45.275648Z"
    },
    "papermill": {
     "duration": 0.030966,
     "end_time": "2021-05-18T17:40:45.275818",
     "exception": false,
     "start_time": "2021-05-18T17:40:45.244852",
     "status": "completed"
    },
    "tags": []
   },
   "outputs": [
    {
     "data": {
      "text/plain": [
       "Survived       0\n",
       "Pclass         0\n",
       "Sex            0\n",
       "Age            0\n",
       "SibSp          0\n",
       "Parch          0\n",
       "Fare           0\n",
       "Embarked       0\n",
       "Family_Size    0\n",
       "dtype: int64"
      ]
     },
     "execution_count": 9,
     "metadata": {},
     "output_type": "execute_result"
    }
   ],
   "source": [
    "# Checking Null values in Train data\n",
    "df_train.isnull().sum()"
   ]
  },
  {
   "cell_type": "code",
   "execution_count": 10,
   "id": "varied-navigation",
   "metadata": {
    "execution": {
     "iopub.execute_input": "2021-05-18T17:40:45.317875Z",
     "iopub.status.busy": "2021-05-18T17:40:45.316935Z",
     "iopub.status.idle": "2021-05-18T17:40:45.326344Z",
     "shell.execute_reply": "2021-05-18T17:40:45.325826Z"
    },
    "papermill": {
     "duration": 0.031503,
     "end_time": "2021-05-18T17:40:45.326489",
     "exception": false,
     "start_time": "2021-05-18T17:40:45.294986",
     "status": "completed"
    },
    "tags": []
   },
   "outputs": [
    {
     "data": {
      "text/plain": [
       "Pclass         0\n",
       "Sex            0\n",
       "Age            0\n",
       "SibSp          0\n",
       "Parch          0\n",
       "Fare           0\n",
       "Embarked       0\n",
       "Family_Size    0\n",
       "dtype: int64"
      ]
     },
     "execution_count": 10,
     "metadata": {},
     "output_type": "execute_result"
    }
   ],
   "source": [
    "# Checking Null values in Test data\n",
    "df_test.isnull().sum()"
   ]
  },
  {
   "cell_type": "code",
   "execution_count": 11,
   "id": "broadband-attempt",
   "metadata": {
    "execution": {
     "iopub.execute_input": "2021-05-18T17:40:45.376637Z",
     "iopub.status.busy": "2021-05-18T17:40:45.375607Z",
     "iopub.status.idle": "2021-05-18T17:40:45.382337Z",
     "shell.execute_reply": "2021-05-18T17:40:45.382875Z"
    },
    "papermill": {
     "duration": 0.037678,
     "end_time": "2021-05-18T17:40:45.383062",
     "exception": false,
     "start_time": "2021-05-18T17:40:45.345384",
     "status": "completed"
    },
    "tags": []
   },
   "outputs": [],
   "source": [
    "# Converting Both Train and test colums to Categorial data to use df.dummies()\n",
    "df_train[\"Sex\"] = df_train[\"Sex\"].astype('category')\n",
    "df_train[\"Embarked\"] = df_train[\"Embarked\"].astype('category')\n",
    "df_test[\"Sex\"] = df_test[\"Sex\"].astype('category')\n",
    "df_test[\"Embarked\"] = df_test[\"Embarked\"].astype('category')"
   ]
  },
  {
   "cell_type": "code",
   "execution_count": 12,
   "id": "practical-louisiana",
   "metadata": {
    "execution": {
     "iopub.execute_input": "2021-05-18T17:40:45.425164Z",
     "iopub.status.busy": "2021-05-18T17:40:45.424177Z",
     "iopub.status.idle": "2021-05-18T17:40:45.438614Z",
     "shell.execute_reply": "2021-05-18T17:40:45.439154Z"
    },
    "papermill": {
     "duration": 0.037385,
     "end_time": "2021-05-18T17:40:45.439331",
     "exception": false,
     "start_time": "2021-05-18T17:40:45.401946",
     "status": "completed"
    },
    "tags": []
   },
   "outputs": [],
   "source": [
    "# Using df.dummies to one hot encode the Sex and Embarked columns\n",
    "\n",
    "df_train = pd.get_dummies(df_train, columns=[\"Sex\",\"Embarked\"])\n",
    "df_test = pd.get_dummies(df_test, columns=[\"Sex\",\"Embarked\"])"
   ]
  },
  {
   "cell_type": "code",
   "execution_count": 13,
   "id": "funky-attention",
   "metadata": {
    "execution": {
     "iopub.execute_input": "2021-05-18T17:40:45.487098Z",
     "iopub.status.busy": "2021-05-18T17:40:45.486040Z",
     "iopub.status.idle": "2021-05-18T17:40:45.511054Z",
     "shell.execute_reply": "2021-05-18T17:40:45.511617Z"
    },
    "papermill": {
     "duration": 0.05224,
     "end_time": "2021-05-18T17:40:45.511799",
     "exception": false,
     "start_time": "2021-05-18T17:40:45.459559",
     "status": "completed"
    },
    "tags": []
   },
   "outputs": [],
   "source": [
    "# Scaling values in Fare and Age Column column\n",
    "mms = MinMaxScaler()\n",
    "df_train[['Fare']] = mms.fit_transform(df_train[['Fare']])\n",
    "df_test[['Fare']] = mms.fit_transform(df_test[['Fare']])\n",
    "\n",
    "df_train[['Age']] = mms.fit_transform(df_train[['Age']])\n",
    "df_test[['Age']] = mms.fit_transform(df_test[['Age']])"
   ]
  },
  {
   "cell_type": "code",
   "execution_count": 14,
   "id": "chronic-theta",
   "metadata": {
    "execution": {
     "iopub.execute_input": "2021-05-18T17:40:45.555478Z",
     "iopub.status.busy": "2021-05-18T17:40:45.554422Z",
     "iopub.status.idle": "2021-05-18T17:40:45.560778Z",
     "shell.execute_reply": "2021-05-18T17:40:45.560286Z"
    },
    "papermill": {
     "duration": 0.028963,
     "end_time": "2021-05-18T17:40:45.560920",
     "exception": false,
     "start_time": "2021-05-18T17:40:45.531957",
     "status": "completed"
    },
    "tags": []
   },
   "outputs": [
    {
     "name": "stdout",
     "output_type": "stream",
     "text": [
      "(891, 12)\n",
      "(418, 11)\n"
     ]
    }
   ],
   "source": [
    "# Shape of Train and Test dataset\n",
    "print(df_train.shape)\n",
    "print(df_test.shape)"
   ]
  },
  {
   "cell_type": "code",
   "execution_count": 15,
   "id": "significant-serbia",
   "metadata": {
    "execution": {
     "iopub.execute_input": "2021-05-18T17:40:45.606847Z",
     "iopub.status.busy": "2021-05-18T17:40:45.606187Z",
     "iopub.status.idle": "2021-05-18T17:40:45.608334Z",
     "shell.execute_reply": "2021-05-18T17:40:45.608771Z"
    },
    "papermill": {
     "duration": 0.028499,
     "end_time": "2021-05-18T17:40:45.608947",
     "exception": false,
     "start_time": "2021-05-18T17:40:45.580448",
     "status": "completed"
    },
    "tags": []
   },
   "outputs": [],
   "source": [
    "# Lets train Models based on df_train to find out Model with best settings\n",
    "# First we need to Divide the data into data and output set from df_train\n",
    "\n",
    "train_input = df_train.drop(columns=['Survived'])\n",
    "train_result = df_train[\"Survived\"]"
   ]
  },
  {
   "cell_type": "code",
   "execution_count": 16,
   "id": "removable-praise",
   "metadata": {
    "execution": {
     "iopub.execute_input": "2021-05-18T17:40:45.652788Z",
     "iopub.status.busy": "2021-05-18T17:40:45.651877Z",
     "iopub.status.idle": "2021-05-18T17:40:45.663116Z",
     "shell.execute_reply": "2021-05-18T17:40:45.662508Z"
    },
    "papermill": {
     "duration": 0.034532,
     "end_time": "2021-05-18T17:40:45.663263",
     "exception": false,
     "start_time": "2021-05-18T17:40:45.628731",
     "status": "completed"
    },
    "tags": []
   },
   "outputs": [],
   "source": [
    "# Splitting the data using train_test_split\n",
    "\n",
    "x_train,x_test,y_train,y_test=train_test_split(train_input,train_result,test_size=0.10,random_state=40)"
   ]
  },
  {
   "cell_type": "code",
   "execution_count": 17,
   "id": "hollow-planet",
   "metadata": {
    "execution": {
     "iopub.execute_input": "2021-05-18T17:40:45.716645Z",
     "iopub.status.busy": "2021-05-18T17:40:45.715953Z",
     "iopub.status.idle": "2021-05-18T17:40:45.747771Z",
     "shell.execute_reply": "2021-05-18T17:40:45.746766Z"
    },
    "papermill": {
     "duration": 0.063769,
     "end_time": "2021-05-18T17:40:45.748065",
     "exception": false,
     "start_time": "2021-05-18T17:40:45.684296",
     "status": "completed"
    },
    "tags": []
   },
   "outputs": [
    {
     "name": "stdout",
     "output_type": "stream",
     "text": [
      "0.8333333333333334\n"
     ]
    }
   ],
   "source": [
    "model=LogisticRegression(C=1.0, class_weight=None, dual=False, fit_intercept=True,\n",
    "          intercept_scaling=1, max_iter=150, multi_class='ovr', n_jobs=1,\n",
    "          penalty='l2', random_state=None, solver='lbfgs', tol=0.0001,\n",
    "          verbose=0, warm_start=False)\n",
    "\n",
    "model.fit(x_train,y_train)\n",
    "\n",
    "print(model.score(x_test,y_test))"
   ]
  },
  {
   "cell_type": "code",
   "execution_count": 18,
   "id": "rental-purchase",
   "metadata": {
    "execution": {
     "iopub.execute_input": "2021-05-18T17:40:45.793945Z",
     "iopub.status.busy": "2021-05-18T17:40:45.793303Z",
     "iopub.status.idle": "2021-05-18T17:40:45.802223Z",
     "shell.execute_reply": "2021-05-18T17:40:45.802714Z"
    },
    "papermill": {
     "duration": 0.032915,
     "end_time": "2021-05-18T17:40:45.802895",
     "exception": false,
     "start_time": "2021-05-18T17:40:45.769980",
     "status": "completed"
    },
    "tags": []
   },
   "outputs": [
    {
     "name": "stdout",
     "output_type": "stream",
     "text": [
      "[0 0 0 0 1 0 1 0 1 0 0 0 1 0 1 1 0 0 1 1 0 0 1 1 1 0 1 0 0 0 0 0 0 0 0 0 1\n",
      " 1 0 0 0 0 0 1 1 0 0 0 1 0 0 0 1 1 0 0 0 0 0 1 0 0 0 1 1 1 1 0 1 1 1 0 1 1\n",
      " 1 1 0 1 0 1 0 0 0 0 0 0 1 1 1 0 1 0 1 0 1 0 1 0 1 0 1 0 0 0 1 0 0 0 0 0 0\n",
      " 1 1 1 1 0 0 1 1 1 1 0 1 0 0 1 0 1 0 0 0 0 0 0 0 0 0 0 1 0 0 1 0 0 0 0 0 0\n",
      " 0 0 1 0 0 0 0 0 1 1 0 1 1 0 1 0 0 1 0 0 1 1 0 0 0 0 0 1 1 0 1 1 0 0 1 0 1\n",
      " 0 1 0 0 0 0 0 0 0 0 0 1 1 0 1 1 0 0 1 0 1 1 0 1 0 0 0 0 1 0 0 1 0 1 0 1 0\n",
      " 1 0 1 1 0 1 0 0 0 1 0 0 0 0 0 0 1 1 1 1 0 0 0 0 1 0 1 1 1 0 1 0 0 0 0 0 1\n",
      " 0 0 0 1 1 0 0 0 0 1 0 0 0 1 1 0 1 0 0 0 0 1 0 1 1 1 0 0 0 0 0 0 1 0 0 0 0\n",
      " 1 0 0 0 0 0 0 0 1 1 0 0 0 0 0 0 0 1 1 1 0 0 0 0 0 0 0 0 1 0 1 0 0 0 1 0 0\n",
      " 1 0 0 0 0 0 0 0 0 0 1 0 1 0 1 0 1 1 0 0 0 1 0 1 0 0 1 0 1 1 0 1 0 0 1 1 0\n",
      " 0 1 0 0 1 1 1 0 0 0 0 0 1 1 0 1 0 0 0 0 1 1 0 0 0 1 0 1 0 0 1 0 1 1 0 0 0\n",
      " 0 1 1 1 1 1 0 1 0 0 0]\n"
     ]
    }
   ],
   "source": [
    "# Predicting the values for test data\n",
    "result = model.predict(df_test)\n",
    "print(result)"
   ]
  },
  {
   "cell_type": "code",
   "execution_count": 19,
   "id": "recovered-distinction",
   "metadata": {
    "execution": {
     "iopub.execute_input": "2021-05-18T17:40:45.850671Z",
     "iopub.status.busy": "2021-05-18T17:40:45.849930Z",
     "iopub.status.idle": "2021-05-18T17:40:45.857120Z",
     "shell.execute_reply": "2021-05-18T17:40:45.856554Z"
    },
    "papermill": {
     "duration": 0.03377,
     "end_time": "2021-05-18T17:40:45.857263",
     "exception": false,
     "start_time": "2021-05-18T17:40:45.823493",
     "status": "completed"
    },
    "tags": []
   },
   "outputs": [],
   "source": [
    "output = pd.DataFrame({'PassengerId': test_data.PassengerId, 'Survived':result})\n",
    "output.to_csv('my_submission.csv', index=False)"
   ]
  },
  {
   "cell_type": "code",
   "execution_count": null,
   "id": "handed-imperial",
   "metadata": {
    "papermill": {
     "duration": 0.021069,
     "end_time": "2021-05-18T17:40:45.899308",
     "exception": false,
     "start_time": "2021-05-18T17:40:45.878239",
     "status": "completed"
    },
    "tags": []
   },
   "outputs": [],
   "source": []
  },
  {
   "cell_type": "code",
   "execution_count": null,
   "id": "fleet-comparative",
   "metadata": {
    "papermill": {
     "duration": 0.020386,
     "end_time": "2021-05-18T17:40:45.940959",
     "exception": false,
     "start_time": "2021-05-18T17:40:45.920573",
     "status": "completed"
    },
    "tags": []
   },
   "outputs": [],
   "source": []
  },
  {
   "cell_type": "code",
   "execution_count": null,
   "id": "honest-waterproof",
   "metadata": {
    "papermill": {
     "duration": 0.021349,
     "end_time": "2021-05-18T17:40:45.983419",
     "exception": false,
     "start_time": "2021-05-18T17:40:45.962070",
     "status": "completed"
    },
    "tags": []
   },
   "outputs": [],
   "source": []
  },
  {
   "cell_type": "code",
   "execution_count": null,
   "id": "proof-consent",
   "metadata": {
    "papermill": {
     "duration": 0.021402,
     "end_time": "2021-05-18T17:40:46.026144",
     "exception": false,
     "start_time": "2021-05-18T17:40:46.004742",
     "status": "completed"
    },
    "tags": []
   },
   "outputs": [],
   "source": []
  }
 ],
 "metadata": {
  "kernelspec": {
   "display_name": "Python 3",
   "language": "python",
   "name": "python3"
  },
  "language_info": {
   "codemirror_mode": {
    "name": "ipython",
    "version": 3
   },
   "file_extension": ".py",
   "mimetype": "text/x-python",
   "name": "python",
   "nbconvert_exporter": "python",
   "pygments_lexer": "ipython3",
   "version": "3.7.10"
  },
  "papermill": {
   "default_parameters": {},
   "duration": 18.947674,
   "end_time": "2021-05-18T17:40:47.897947",
   "environment_variables": {},
   "exception": null,
   "input_path": "__notebook__.ipynb",
   "output_path": "__notebook__.ipynb",
   "parameters": {},
   "start_time": "2021-05-18T17:40:28.950273",
   "version": "2.3.3"
  }
 },
 "nbformat": 4,
 "nbformat_minor": 5
}
