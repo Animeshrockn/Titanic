{
 "cells": [
  {
   "cell_type": "code",
   "execution_count": 1,
   "metadata": {
    "execution": {
     "iopub.execute_input": "2021-05-18T12:05:29.754740Z",
     "iopub.status.busy": "2021-05-18T12:05:29.753926Z",
     "iopub.status.idle": "2021-05-18T12:05:29.762224Z",
     "shell.execute_reply": "2021-05-18T12:05:29.761138Z"
    },
    "papermill": {
     "duration": 0.033815,
     "end_time": "2021-05-18T12:05:29.762497",
     "exception": false,
     "start_time": "2021-05-18T12:05:29.728682",
     "status": "completed"
    },
    "tags": []
   },
   "outputs": [
    {
     "name": "stdout",
     "output_type": "stream",
     "text": [
      "/kaggle/input/titanic/train.csv\n",
      "/kaggle/input/titanic/test.csv\n",
      "/kaggle/input/titanic/gender_submission.csv\n"
     ]
    }
   ],
   "source": [
    "# This Python 3 environment comes with many helpful analytics libraries installed\n",
    "# It is defined by the kaggle/python Docker image: https://github.com/kaggle/docker-python\n",
    "# For example, here's several helpful packages to load\n",
    "\n",
    "import numpy as np # linear algebra\n",
    "import pandas as pd # data processing, CSV file I/O (e.g. pd.read_csv)\n",
    "\n",
    "# Input data files are available in the read-only \"../input/\" directory\n",
    "# For example, running this (by clicking run or pressing Shift+Enter) will list all files under the input directory\n",
    "\n",
    "import os\n",
    "for dirname, _, filenames in os.walk('/kaggle/input'):\n",
    "    for filename in filenames:\n",
    "        print(os.path.join(dirname, filename))\n",
    "\n",
    "# You can write up to 20GB to the current directory (/kaggle/working/) that gets preserved as output when you create a version using \"Save & Run All\" \n",
    "# You can also write temporary files to /kaggle/temp/, but they won't be saved outside of the current session"
   ]
  },
  {
   "cell_type": "code",
   "execution_count": 2,
   "metadata": {
    "execution": {
     "iopub.execute_input": "2021-05-18T12:05:29.802290Z",
     "iopub.status.busy": "2021-05-18T12:05:29.801342Z",
     "iopub.status.idle": "2021-05-18T12:05:37.525787Z",
     "shell.execute_reply": "2021-05-18T12:05:37.524991Z"
    },
    "papermill": {
     "duration": 7.745592,
     "end_time": "2021-05-18T12:05:37.525993",
     "exception": false,
     "start_time": "2021-05-18T12:05:29.780401",
     "status": "completed"
    },
    "tags": []
   },
   "outputs": [],
   "source": [
    "from pandas import read_csv\n",
    "import pandas as pd\n",
    "import numpy as np\n",
    "from sklearn.model_selection import train_test_split\n",
    "from keras import optimizers\n",
    "from keras.models import Sequential\n",
    "from keras.layers import Dense\n",
    "from keras.layers import Dropout\n",
    "from keras.layers import Activation\n",
    "from pandas import get_dummies\n",
    "from sklearn.preprocessing import MinMaxScaler\n",
    "\n",
    "\n",
    "train_data = pd.read_csv(\"/kaggle/input/titanic/train.csv\")\n",
    "test_data = pd.read_csv(\"/kaggle/input/titanic/test.csv\")"
   ]
  },
  {
   "cell_type": "code",
   "execution_count": 3,
   "metadata": {
    "execution": {
     "iopub.execute_input": "2021-05-18T12:05:37.560862Z",
     "iopub.status.busy": "2021-05-18T12:05:37.559877Z",
     "iopub.status.idle": "2021-05-18T12:05:37.582931Z",
     "shell.execute_reply": "2021-05-18T12:05:37.583509Z"
    },
    "papermill": {
     "duration": 0.04232,
     "end_time": "2021-05-18T12:05:37.583692",
     "exception": false,
     "start_time": "2021-05-18T12:05:37.541372",
     "status": "completed"
    },
    "tags": []
   },
   "outputs": [
    {
     "data": {
      "text/plain": [
       "PassengerId      0\n",
       "Survived         0\n",
       "Pclass           0\n",
       "Name             0\n",
       "Sex              0\n",
       "Age            177\n",
       "SibSp            0\n",
       "Parch            0\n",
       "Ticket           0\n",
       "Fare             0\n",
       "Cabin          687\n",
       "Embarked         2\n",
       "dtype: int64"
      ]
     },
     "execution_count": 3,
     "metadata": {},
     "output_type": "execute_result"
    }
   ],
   "source": [
    "# Checking Nulls\n",
    "train_data.isnull().sum()"
   ]
  },
  {
   "cell_type": "code",
   "execution_count": 4,
   "metadata": {
    "execution": {
     "iopub.execute_input": "2021-05-18T12:05:37.615928Z",
     "iopub.status.busy": "2021-05-18T12:05:37.615291Z",
     "iopub.status.idle": "2021-05-18T12:05:37.623311Z",
     "shell.execute_reply": "2021-05-18T12:05:37.623770Z"
    },
    "papermill": {
     "duration": 0.025639,
     "end_time": "2021-05-18T12:05:37.623973",
     "exception": false,
     "start_time": "2021-05-18T12:05:37.598334",
     "status": "completed"
    },
    "tags": []
   },
   "outputs": [
    {
     "data": {
      "text/plain": [
       "PassengerId      0\n",
       "Pclass           0\n",
       "Name             0\n",
       "Sex              0\n",
       "Age             86\n",
       "SibSp            0\n",
       "Parch            0\n",
       "Ticket           0\n",
       "Fare             1\n",
       "Cabin          327\n",
       "Embarked         0\n",
       "dtype: int64"
      ]
     },
     "execution_count": 4,
     "metadata": {},
     "output_type": "execute_result"
    }
   ],
   "source": [
    "# Checking Nulls\n",
    "test_data.isnull().sum()"
   ]
  },
  {
   "cell_type": "code",
   "execution_count": 5,
   "metadata": {
    "execution": {
     "iopub.execute_input": "2021-05-18T12:05:37.664673Z",
     "iopub.status.busy": "2021-05-18T12:05:37.664013Z",
     "iopub.status.idle": "2021-05-18T12:05:37.667334Z",
     "shell.execute_reply": "2021-05-18T12:05:37.666775Z"
    },
    "papermill": {
     "duration": 0.028565,
     "end_time": "2021-05-18T12:05:37.667486",
     "exception": false,
     "start_time": "2021-05-18T12:05:37.638921",
     "status": "completed"
    },
    "tags": []
   },
   "outputs": [],
   "source": [
    "# Filling Null Values in Train data\n",
    "train_data['Embarked'] = train_data['Embarked'].replace(np.nan, 'C')\n",
    "train_data[\"Age\"].fillna(train_data[\"Age\"].mean(),inplace=True)"
   ]
  },
  {
   "cell_type": "code",
   "execution_count": 6,
   "metadata": {
    "execution": {
     "iopub.execute_input": "2021-05-18T12:05:37.707255Z",
     "iopub.status.busy": "2021-05-18T12:05:37.706616Z",
     "iopub.status.idle": "2021-05-18T12:05:37.709507Z",
     "shell.execute_reply": "2021-05-18T12:05:37.708978Z"
    },
    "papermill": {
     "duration": 0.024107,
     "end_time": "2021-05-18T12:05:37.709660",
     "exception": false,
     "start_time": "2021-05-18T12:05:37.685553",
     "status": "completed"
    },
    "tags": []
   },
   "outputs": [],
   "source": [
    "# Filling Null Values in Test data\n",
    "test_data['Fare'] = test_data['Fare'].replace(np.nan, 35)\n",
    "test_data[\"Age\"].fillna(test_data[\"Age\"].mean(),inplace=True)"
   ]
  },
  {
   "cell_type": "code",
   "execution_count": 7,
   "metadata": {
    "execution": {
     "iopub.execute_input": "2021-05-18T12:05:37.750822Z",
     "iopub.status.busy": "2021-05-18T12:05:37.750146Z",
     "iopub.status.idle": "2021-05-18T12:05:37.754310Z",
     "shell.execute_reply": "2021-05-18T12:05:37.754829Z"
    },
    "papermill": {
     "duration": 0.029492,
     "end_time": "2021-05-18T12:05:37.755025",
     "exception": false,
     "start_time": "2021-05-18T12:05:37.725533",
     "status": "completed"
    },
    "tags": []
   },
   "outputs": [],
   "source": [
    "# Dropping unwanted colums\n",
    "df_train = train_data.drop([\"Name\",\"Cabin\",\"Ticket\"],axis = 1)\n",
    "df_test = test_data.drop([\"Name\",\"Cabin\",\"Ticket\"],axis = 1)"
   ]
  },
  {
   "cell_type": "code",
   "execution_count": 8,
   "metadata": {
    "execution": {
     "iopub.execute_input": "2021-05-18T12:05:37.792653Z",
     "iopub.status.busy": "2021-05-18T12:05:37.791866Z",
     "iopub.status.idle": "2021-05-18T12:05:37.803850Z",
     "shell.execute_reply": "2021-05-18T12:05:37.804381Z"
    },
    "papermill": {
     "duration": 0.034112,
     "end_time": "2021-05-18T12:05:37.804572",
     "exception": false,
     "start_time": "2021-05-18T12:05:37.770460",
     "status": "completed"
    },
    "tags": []
   },
   "outputs": [],
   "source": [
    "# Converting Both Train and test colums to Categorial data to use df.dummies()\n",
    "df_train[\"Sex\"] = df_train[\"Sex\"].astype('category')\n",
    "df_train[\"Embarked\"] = df_train[\"Embarked\"].astype('category')\n",
    "df_test[\"Sex\"] = df_test[\"Sex\"].astype('category')\n",
    "df_test[\"Embarked\"] = df_test[\"Embarked\"].astype('category')"
   ]
  },
  {
   "cell_type": "code",
   "execution_count": 9,
   "metadata": {
    "execution": {
     "iopub.execute_input": "2021-05-18T12:05:37.842733Z",
     "iopub.status.busy": "2021-05-18T12:05:37.842081Z",
     "iopub.status.idle": "2021-05-18T12:05:37.856296Z",
     "shell.execute_reply": "2021-05-18T12:05:37.857057Z"
    },
    "papermill": {
     "duration": 0.035052,
     "end_time": "2021-05-18T12:05:37.857291",
     "exception": false,
     "start_time": "2021-05-18T12:05:37.822239",
     "status": "completed"
    },
    "tags": []
   },
   "outputs": [],
   "source": [
    "# Using df.dummies to one hot encode the Sex and Embarked columns\n",
    "\n",
    "df_train = pd.get_dummies(df_train, columns=[\"Sex\",\"Embarked\"])\n",
    "df_test = pd.get_dummies(df_test, columns=[\"Sex\",\"Embarked\"])"
   ]
  },
  {
   "cell_type": "code",
   "execution_count": 10,
   "metadata": {
    "execution": {
     "iopub.execute_input": "2021-05-18T12:05:37.895501Z",
     "iopub.status.busy": "2021-05-18T12:05:37.894826Z",
     "iopub.status.idle": "2021-05-18T12:05:37.911677Z",
     "shell.execute_reply": "2021-05-18T12:05:37.912206Z"
    },
    "papermill": {
     "duration": 0.038005,
     "end_time": "2021-05-18T12:05:37.912438",
     "exception": false,
     "start_time": "2021-05-18T12:05:37.874433",
     "status": "completed"
    },
    "tags": []
   },
   "outputs": [],
   "source": [
    "# Scaling values in Fare column\n",
    "mms = MinMaxScaler()\n",
    "df_train[['Fare']] = mms.fit_transform(df_train[['Fare']])\n",
    "df_test[['Fare']] = mms.fit_transform(df_test[['Fare']])"
   ]
  },
  {
   "cell_type": "code",
   "execution_count": 11,
   "metadata": {
    "execution": {
     "iopub.execute_input": "2021-05-18T12:05:37.948491Z",
     "iopub.status.busy": "2021-05-18T12:05:37.947836Z",
     "iopub.status.idle": "2021-05-18T12:05:37.954412Z",
     "shell.execute_reply": "2021-05-18T12:05:37.953857Z"
    },
    "papermill": {
     "duration": 0.025662,
     "end_time": "2021-05-18T12:05:37.954570",
     "exception": false,
     "start_time": "2021-05-18T12:05:37.928908",
     "status": "completed"
    },
    "tags": []
   },
   "outputs": [],
   "source": [
    "df_train_input = df_train.drop(columns=['Survived'])\n",
    "df_train_result = df_train[\"Survived\"]"
   ]
  },
  {
   "cell_type": "code",
   "execution_count": 12,
   "metadata": {
    "execution": {
     "iopub.execute_input": "2021-05-18T12:05:37.993761Z",
     "iopub.status.busy": "2021-05-18T12:05:37.993051Z",
     "iopub.status.idle": "2021-05-18T12:05:37.996761Z",
     "shell.execute_reply": "2021-05-18T12:05:37.996216Z"
    },
    "papermill": {
     "duration": 0.026049,
     "end_time": "2021-05-18T12:05:37.996919",
     "exception": false,
     "start_time": "2021-05-18T12:05:37.970870",
     "status": "completed"
    },
    "tags": []
   },
   "outputs": [],
   "source": [
    "x_train = df_train_input\n",
    "y_train = df_train_result"
   ]
  },
  {
   "cell_type": "code",
   "execution_count": 13,
   "metadata": {
    "execution": {
     "iopub.execute_input": "2021-05-18T12:05:38.038147Z",
     "iopub.status.busy": "2021-05-18T12:05:38.037261Z",
     "iopub.status.idle": "2021-05-18T12:05:38.048007Z",
     "shell.execute_reply": "2021-05-18T12:05:38.048587Z"
    },
    "papermill": {
     "duration": 0.034532,
     "end_time": "2021-05-18T12:05:38.048788",
     "exception": false,
     "start_time": "2021-05-18T12:05:38.014256",
     "status": "completed"
    },
    "tags": []
   },
   "outputs": [],
   "source": [
    "# Learning rate\n",
    "learning_rate = 0.01\n",
    "\n",
    "# Epoch  \n",
    "epochs = 50\n",
    "\n",
    "# Optimizer\n",
    "opt = optimizers.Adam(lr=learning_rate)\n"
   ]
  },
  {
   "cell_type": "code",
   "execution_count": 14,
   "metadata": {
    "execution": {
     "iopub.execute_input": "2021-05-18T12:05:38.090692Z",
     "iopub.status.busy": "2021-05-18T12:05:38.089872Z",
     "iopub.status.idle": "2021-05-18T12:05:38.175843Z",
     "shell.execute_reply": "2021-05-18T12:05:38.176453Z"
    },
    "papermill": {
     "duration": 0.109799,
     "end_time": "2021-05-18T12:05:38.176654",
     "exception": false,
     "start_time": "2021-05-18T12:05:38.066855",
     "status": "completed"
    },
    "tags": []
   },
   "outputs": [],
   "source": [
    "# Neural network Model\n",
    "\n",
    "model = Sequential()\n",
    "\n",
    "model.add(Dense(10, activation='relu', input_dim = 11))\n",
    "model.add(Dense(1, activation='sigmoid'))"
   ]
  },
  {
   "cell_type": "code",
   "execution_count": 15,
   "metadata": {
    "execution": {
     "iopub.execute_input": "2021-05-18T12:05:38.216503Z",
     "iopub.status.busy": "2021-05-18T12:05:38.215370Z",
     "iopub.status.idle": "2021-05-18T12:05:38.231596Z",
     "shell.execute_reply": "2021-05-18T12:05:38.232100Z"
    },
    "papermill": {
     "duration": 0.037235,
     "end_time": "2021-05-18T12:05:38.232293",
     "exception": false,
     "start_time": "2021-05-18T12:05:38.195058",
     "status": "completed"
    },
    "tags": []
   },
   "outputs": [],
   "source": [
    "# Complier\n",
    "model.compile(loss='BinaryCrossentropy', optimizer=opt, metrics=['accuracy'])"
   ]
  },
  {
   "cell_type": "code",
   "execution_count": 16,
   "metadata": {
    "execution": {
     "iopub.execute_input": "2021-05-18T12:05:38.272185Z",
     "iopub.status.busy": "2021-05-18T12:05:38.271148Z",
     "iopub.status.idle": "2021-05-18T12:05:40.663180Z",
     "shell.execute_reply": "2021-05-18T12:05:40.663642Z"
    },
    "papermill": {
     "duration": 2.412679,
     "end_time": "2021-05-18T12:05:40.663829",
     "exception": false,
     "start_time": "2021-05-18T12:05:38.251150",
     "status": "completed"
    },
    "tags": []
   },
   "outputs": [],
   "source": [
    "# Model Training\n",
    "history = model.fit(\n",
    "    x_train,\n",
    "    y_train,\n",
    "    epochs=epochs,\n",
    "    verbose = 0\n",
    ")"
   ]
  },
  {
   "cell_type": "code",
   "execution_count": 17,
   "metadata": {
    "execution": {
     "iopub.execute_input": "2021-05-18T12:05:40.703225Z",
     "iopub.status.busy": "2021-05-18T12:05:40.702178Z",
     "iopub.status.idle": "2021-05-18T12:05:40.833518Z",
     "shell.execute_reply": "2021-05-18T12:05:40.834068Z"
    },
    "papermill": {
     "duration": 0.152793,
     "end_time": "2021-05-18T12:05:40.834252",
     "exception": false,
     "start_time": "2021-05-18T12:05:40.681459",
     "status": "completed"
    },
    "tags": []
   },
   "outputs": [],
   "source": [
    "df_test_result_final = model.predict(df_test)"
   ]
  },
  {
   "cell_type": "code",
   "execution_count": 18,
   "metadata": {
    "execution": {
     "iopub.execute_input": "2021-05-18T12:05:40.883170Z",
     "iopub.status.busy": "2021-05-18T12:05:40.882173Z",
     "iopub.status.idle": "2021-05-18T12:05:40.886985Z",
     "shell.execute_reply": "2021-05-18T12:05:40.886363Z"
    },
    "papermill": {
     "duration": 0.035967,
     "end_time": "2021-05-18T12:05:40.887122",
     "exception": false,
     "start_time": "2021-05-18T12:05:40.851155",
     "status": "completed"
    },
    "tags": []
   },
   "outputs": [
    {
     "data": {
      "text/plain": [
       "[0,\n",
       " 1,\n",
       " 0,\n",
       " 0,\n",
       " 1,\n",
       " 0,\n",
       " 1,\n",
       " 0,\n",
       " 1,\n",
       " 0,\n",
       " 0,\n",
       " 0,\n",
       " 1,\n",
       " 0,\n",
       " 1,\n",
       " 1,\n",
       " 0,\n",
       " 0,\n",
       " 1,\n",
       " 1,\n",
       " 0,\n",
       " 0,\n",
       " 1,\n",
       " 1,\n",
       " 1,\n",
       " 0,\n",
       " 1,\n",
       " 0,\n",
       " 0,\n",
       " 0,\n",
       " 0,\n",
       " 0,\n",
       " 1,\n",
       " 1,\n",
       " 1,\n",
       " 0,\n",
       " 1,\n",
       " 1,\n",
       " 0,\n",
       " 0,\n",
       " 0,\n",
       " 0,\n",
       " 0,\n",
       " 1,\n",
       " 1,\n",
       " 0,\n",
       " 0,\n",
       " 0,\n",
       " 1,\n",
       " 1,\n",
       " 0,\n",
       " 0,\n",
       " 1,\n",
       " 1,\n",
       " 0,\n",
       " 0,\n",
       " 0,\n",
       " 0,\n",
       " 0,\n",
       " 1,\n",
       " 0,\n",
       " 0,\n",
       " 0,\n",
       " 1,\n",
       " 1,\n",
       " 1,\n",
       " 1,\n",
       " 0,\n",
       " 1,\n",
       " 1,\n",
       " 1,\n",
       " 0,\n",
       " 1,\n",
       " 1,\n",
       " 1,\n",
       " 1,\n",
       " 0,\n",
       " 1,\n",
       " 0,\n",
       " 1,\n",
       " 0,\n",
       " 0,\n",
       " 0,\n",
       " 0,\n",
       " 0,\n",
       " 0,\n",
       " 1,\n",
       " 1,\n",
       " 1,\n",
       " 0,\n",
       " 1,\n",
       " 0,\n",
       " 1,\n",
       " 0,\n",
       " 1,\n",
       " 0,\n",
       " 1,\n",
       " 0,\n",
       " 1,\n",
       " 0,\n",
       " 1,\n",
       " 0,\n",
       " 0,\n",
       " 0,\n",
       " 1,\n",
       " 0,\n",
       " 0,\n",
       " 0,\n",
       " 0,\n",
       " 0,\n",
       " 0,\n",
       " 1,\n",
       " 1,\n",
       " 1,\n",
       " 1,\n",
       " 0,\n",
       " 0,\n",
       " 1,\n",
       " 1,\n",
       " 1,\n",
       " 1,\n",
       " 0,\n",
       " 1,\n",
       " 0,\n",
       " 0,\n",
       " 1,\n",
       " 0,\n",
       " 1,\n",
       " 0,\n",
       " 0,\n",
       " 0,\n",
       " 0,\n",
       " 1,\n",
       " 0,\n",
       " 0,\n",
       " 0,\n",
       " 0,\n",
       " 0,\n",
       " 1,\n",
       " 0,\n",
       " 1,\n",
       " 1,\n",
       " 0,\n",
       " 0,\n",
       " 0,\n",
       " 0,\n",
       " 0,\n",
       " 0,\n",
       " 0,\n",
       " 0,\n",
       " 1,\n",
       " 0,\n",
       " 0,\n",
       " 1,\n",
       " 0,\n",
       " 0,\n",
       " 1,\n",
       " 1,\n",
       " 0,\n",
       " 1,\n",
       " 1,\n",
       " 0,\n",
       " 1,\n",
       " 0,\n",
       " 0,\n",
       " 1,\n",
       " 0,\n",
       " 0,\n",
       " 1,\n",
       " 1,\n",
       " 0,\n",
       " 0,\n",
       " 0,\n",
       " 0,\n",
       " 0,\n",
       " 1,\n",
       " 1,\n",
       " 0,\n",
       " 1,\n",
       " 1,\n",
       " 0,\n",
       " 0,\n",
       " 1,\n",
       " 0,\n",
       " 1,\n",
       " 0,\n",
       " 1,\n",
       " 0,\n",
       " 0,\n",
       " 0,\n",
       " 0,\n",
       " 0,\n",
       " 0,\n",
       " 0,\n",
       " 0,\n",
       " 0,\n",
       " 1,\n",
       " 1,\n",
       " 0,\n",
       " 1,\n",
       " 1,\n",
       " 0,\n",
       " 1,\n",
       " 1,\n",
       " 0,\n",
       " 1,\n",
       " 1,\n",
       " 0,\n",
       " 1,\n",
       " 0,\n",
       " 0,\n",
       " 0,\n",
       " 0,\n",
       " 1,\n",
       " 0,\n",
       " 0,\n",
       " 1,\n",
       " 0,\n",
       " 1,\n",
       " 0,\n",
       " 1,\n",
       " 0,\n",
       " 1,\n",
       " 0,\n",
       " 1,\n",
       " 1,\n",
       " 0,\n",
       " 1,\n",
       " 0,\n",
       " 0,\n",
       " 0,\n",
       " 1,\n",
       " 0,\n",
       " 0,\n",
       " 0,\n",
       " 0,\n",
       " 0,\n",
       " 0,\n",
       " 1,\n",
       " 1,\n",
       " 1,\n",
       " 1,\n",
       " 0,\n",
       " 0,\n",
       " 0,\n",
       " 0,\n",
       " 1,\n",
       " 0,\n",
       " 1,\n",
       " 1,\n",
       " 1,\n",
       " 0,\n",
       " 1,\n",
       " 0,\n",
       " 0,\n",
       " 0,\n",
       " 0,\n",
       " 0,\n",
       " 1,\n",
       " 0,\n",
       " 0,\n",
       " 0,\n",
       " 1,\n",
       " 1,\n",
       " 0,\n",
       " 0,\n",
       " 0,\n",
       " 0,\n",
       " 1,\n",
       " 0,\n",
       " 0,\n",
       " 0,\n",
       " 1,\n",
       " 1,\n",
       " 0,\n",
       " 1,\n",
       " 0,\n",
       " 0,\n",
       " 0,\n",
       " 0,\n",
       " 1,\n",
       " 0,\n",
       " 1,\n",
       " 1,\n",
       " 1,\n",
       " 0,\n",
       " 0,\n",
       " 0,\n",
       " 0,\n",
       " 0,\n",
       " 0,\n",
       " 1,\n",
       " 0,\n",
       " 0,\n",
       " 0,\n",
       " 0,\n",
       " 1,\n",
       " 0,\n",
       " 0,\n",
       " 0,\n",
       " 0,\n",
       " 0,\n",
       " 0,\n",
       " 0,\n",
       " 1,\n",
       " 1,\n",
       " 0,\n",
       " 0,\n",
       " 0,\n",
       " 1,\n",
       " 0,\n",
       " 0,\n",
       " 0,\n",
       " 1,\n",
       " 1,\n",
       " 1,\n",
       " 0,\n",
       " 0,\n",
       " 0,\n",
       " 0,\n",
       " 0,\n",
       " 0,\n",
       " 0,\n",
       " 0,\n",
       " 1,\n",
       " 0,\n",
       " 1,\n",
       " 1,\n",
       " 0,\n",
       " 0,\n",
       " 1,\n",
       " 1,\n",
       " 0,\n",
       " 1,\n",
       " 0,\n",
       " 0,\n",
       " 0,\n",
       " 0,\n",
       " 0,\n",
       " 0,\n",
       " 0,\n",
       " 0,\n",
       " 0,\n",
       " 1,\n",
       " 0,\n",
       " 1,\n",
       " 0,\n",
       " 1,\n",
       " 0,\n",
       " 1,\n",
       " 1,\n",
       " 0,\n",
       " 0,\n",
       " 0,\n",
       " 1,\n",
       " 0,\n",
       " 1,\n",
       " 0,\n",
       " 0,\n",
       " 1,\n",
       " 0,\n",
       " 1,\n",
       " 1,\n",
       " 0,\n",
       " 1,\n",
       " 0,\n",
       " 0,\n",
       " 1,\n",
       " 1,\n",
       " 0,\n",
       " 0,\n",
       " 1,\n",
       " 0,\n",
       " 0,\n",
       " 1,\n",
       " 1,\n",
       " 1,\n",
       " 0,\n",
       " 0,\n",
       " 0,\n",
       " 0,\n",
       " 0,\n",
       " 1,\n",
       " 1,\n",
       " 0,\n",
       " 1,\n",
       " 0,\n",
       " 0,\n",
       " 0,\n",
       " 0,\n",
       " 1,\n",
       " 1,\n",
       " 0,\n",
       " 0,\n",
       " 0,\n",
       " 1,\n",
       " 0,\n",
       " 1,\n",
       " 0,\n",
       " 0,\n",
       " 1,\n",
       " 0,\n",
       " 1,\n",
       " 1,\n",
       " 0,\n",
       " 0,\n",
       " 0,\n",
       " 1,\n",
       " 1,\n",
       " 1,\n",
       " 1,\n",
       " 1,\n",
       " 1,\n",
       " 0,\n",
       " 1,\n",
       " 0,\n",
       " 0,\n",
       " 0]"
      ]
     },
     "execution_count": 18,
     "metadata": {},
     "output_type": "execute_result"
    }
   ],
   "source": [
    "test_result_final = []\n",
    "for i in df_test_result_final:\n",
    "    if i < 0.5:\n",
    "        test_result_final.append(0)\n",
    "    else:\n",
    "        test_result_final.append(1)\n",
    "test_result_final"
   ]
  },
  {
   "cell_type": "code",
   "execution_count": 19,
   "metadata": {
    "execution": {
     "iopub.execute_input": "2021-05-18T12:05:40.929075Z",
     "iopub.status.busy": "2021-05-18T12:05:40.928438Z",
     "iopub.status.idle": "2021-05-18T12:05:40.935316Z",
     "shell.execute_reply": "2021-05-18T12:05:40.934789Z"
    },
    "papermill": {
     "duration": 0.030098,
     "end_time": "2021-05-18T12:05:40.935463",
     "exception": false,
     "start_time": "2021-05-18T12:05:40.905365",
     "status": "completed"
    },
    "tags": []
   },
   "outputs": [],
   "source": [
    "output = pd.DataFrame({'PassengerId': test_data.PassengerId, 'Survived': test_result_final})\n",
    "output.to_csv('my_submission.csv', index=False)"
   ]
  }
 ],
 "metadata": {
  "kernelspec": {
   "display_name": "Python 3",
   "language": "python",
   "name": "python3"
  },
  "language_info": {
   "codemirror_mode": {
    "name": "ipython",
    "version": 3
   },
   "file_extension": ".py",
   "mimetype": "text/x-python",
   "name": "python",
   "nbconvert_exporter": "python",
   "pygments_lexer": "ipython3",
   "version": "3.8.5"
  },
  "papermill": {
   "default_parameters": {},
   "duration": 21.940075,
   "end_time": "2021-05-18T12:05:42.375338",
   "environment_variables": {},
   "exception": null,
   "input_path": "__notebook__.ipynb",
   "output_path": "__notebook__.ipynb",
   "parameters": {},
   "start_time": "2021-05-18T12:05:20.435263",
   "version": "2.3.3"
  }
 },
 "nbformat": 4,
 "nbformat_minor": 5
}
